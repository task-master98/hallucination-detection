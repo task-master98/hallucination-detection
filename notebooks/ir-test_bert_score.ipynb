{
 "cells": [
  {
   "cell_type": "code",
   "execution_count": 1,
   "metadata": {},
   "outputs": [],
   "source": [
    "import sys\n",
    "sys.path.append(\"/Users/ishaanroy/Projects/hallucination-detection\")"
   ]
  },
  {
   "cell_type": "code",
   "execution_count": 2,
   "metadata": {},
   "outputs": [],
   "source": [
    "from hallucination_detection.bert_score import BertScore\n",
    "from hallucination_detection.feature_extractor import FeatureExtractor\n",
    "from hallucination_detection.attention_utils import *"
   ]
  },
  {
   "cell_type": "code",
   "execution_count": 3,
   "metadata": {},
   "outputs": [
    {
     "name": "stderr",
     "output_type": "stream",
     "text": [
      "Some weights of RobertaModel were not initialized from the model checkpoint at roberta-large and are newly initialized: ['roberta.pooler.dense.bias', 'roberta.pooler.dense.weight']\n",
      "You should probably TRAIN this model on a down-stream task to be able to use it for predictions and inference.\n"
     ]
    }
   ],
   "source": [
    "model_type = None\n",
    "num_layers = None\n",
    "scorer = BertScore(model_type, num_layers, lang=\"en\")"
   ]
  },
  {
   "cell_type": "code",
   "execution_count": 13,
   "metadata": {},
   "outputs": [
    {
     "name": "stdout",
     "output_type": "stream",
     "text": [
      "Precision: 0.88, Recall: 0.88, F1: 0.88\n"
     ]
    }
   ],
   "source": [
    "# Define the reference and candidate sentences\n",
    "\n",
    "reference = [\"This is a test sentence\"]\n",
    "candidate = [\"Roberta is a good model\"]\n",
    "\n",
    "# Compute the BERTScore\n",
    "\n",
    "P, R, F1 = scorer.score(candidate, reference)\n",
    "\n",
    "# Print the scores\n",
    "print(\"Precision: {:.2f}, Recall: {:.2f}, F1: {:.2f}\".format(P.item(), R.item(), F1.item()))"
   ]
  },
  {
   "cell_type": "code",
   "execution_count": 5,
   "metadata": {},
   "outputs": [
    {
     "data": {
      "text/plain": [
       "['encoder.layer.16.attention.self.query',\n",
       " 'encoder.layer.16.attention.self.key',\n",
       " 'encoder.layer.16.attention.self.value']"
      ]
     },
     "execution_count": 5,
     "metadata": {},
     "output_type": "execute_result"
    }
   ],
   "source": [
    "attn_layers = define_attention_layers(lang=\"en\")\n",
    "attn_layers"
   ]
  },
  {
   "cell_type": "code",
   "execution_count": 6,
   "metadata": {},
   "outputs": [],
   "source": [
    "feature_extractor = FeatureExtractor(scorer._model, attn_layers)"
   ]
  },
  {
   "cell_type": "code",
   "execution_count": 9,
   "metadata": {},
   "outputs": [],
   "source": [
    "reference = [\"The cat is sitting on the mat\"]\n",
    "candidate = [\"The dog is nice.\"]\n",
    "\n",
    "model = scorer._model\n",
    "tokenizer = scorer._tokenizer\n",
    "idf_dict = defaultdict(lambda: 1.0)\n",
    "idf_dict[tokenizer.sep_token_id] = 0\n",
    "idf_dict[tokenizer.cls_token_id] = 0\n",
    "preds = compute_bert_attn_score(model, feature_extractor, reference, candidate, tokenizer, idf_dict)"
   ]
  },
  {
   "cell_type": "code",
   "execution_count": 10,
   "metadata": {},
   "outputs": [
    {
     "data": {
      "text/plain": [
       "tensor([[0.1900, 0.4860, 0.2732]])"
      ]
     },
     "execution_count": 10,
     "metadata": {},
     "output_type": "execute_result"
    }
   ],
   "source": [
    "preds"
   ]
  },
  {
   "cell_type": "code",
   "execution_count": null,
   "metadata": {},
   "outputs": [],
   "source": []
  }
 ],
 "metadata": {
  "kernelspec": {
   "display_name": "base",
   "language": "python",
   "name": "python3"
  },
  "language_info": {
   "codemirror_mode": {
    "name": "ipython",
    "version": 3
   },
   "file_extension": ".py",
   "mimetype": "text/x-python",
   "name": "python",
   "nbconvert_exporter": "python",
   "pygments_lexer": "ipython3",
   "version": "3.11.5"
  },
  "orig_nbformat": 4
 },
 "nbformat": 4,
 "nbformat_minor": 2
}
